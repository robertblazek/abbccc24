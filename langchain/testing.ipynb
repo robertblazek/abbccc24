{
 "cells": [
  {
   "cell_type": "code",
   "id": "initial_id",
   "metadata": {
    "collapsed": true,
    "ExecuteTime": {
     "end_time": "2024-10-19T08:47:44.926297Z",
     "start_time": "2024-10-19T08:47:42.540657Z"
    }
   },
   "source": [
    "import os\n",
    "from pprint import pprint\n",
    "\n",
    "from langchain import hub\n",
    "from langchain_community.vectorstores import Chroma\n",
    "from langchain_community.document_loaders import PyPDFLoader, DirectoryLoader\n",
    "from langchain_core.messages import HumanMessage\n",
    "from langchain_core.output_parsers import StrOutputParser\n",
    "from langchain_core.runnables import RunnablePassthrough\n",
    "from langchain_openai import ChatOpenAI\n",
    "from langchain_openai import OpenAIEmbeddings\n",
    "from langchain_text_splitters import RecursiveCharacterTextSplitter\n",
    "\n",
    "model = \"nomic-embed-text-v1.5\"\n",
    "url = \"http://10.147.20.161:12345/v1/\"\n",
    "\n",
    "os.environ[\"LANGCHAIN_TRACING_V2\"] = \"true\"\n",
    "os.environ[\"LANGCHAIN_API_KEY\"] = \"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\""
   ],
   "outputs": [],
   "execution_count": 1
  },
  {
   "metadata": {
    "ExecuteTime": {
     "end_time": "2024-10-19T09:05:29.449590Z",
     "start_time": "2024-10-19T09:05:29.424678Z"
    }
   },
   "cell_type": "code",
   "source": [
    "# noinspection PyArgumentList\n",
    "# llm = ChatOpenAI(api_key=\"hovno\", base_url=url, model=\"llama-3.2-1b-instruct\")\n",
    "llm = ChatOpenAI(api_key=\"hovno\", base_url=url, model=\"qwen2.5-14b-instruct\")\n",
    "# llm = OllamaLLM(model=\"llama3.2:3b\")\n",
    "embedding_llm = ChatOpenAI(api_key=\"hovno\", base_url=url, model=model)"
   ],
   "id": "965d0d5a660068b",
   "outputs": [],
   "execution_count": 27
  },
  {
   "metadata": {
    "ExecuteTime": {
     "end_time": "2024-10-19T09:05:37.921655Z",
     "start_time": "2024-10-19T09:05:31.750533Z"
    }
   },
   "cell_type": "code",
   "source": "llm.invoke([HumanMessage(content=\"Hi. I am Bob.\")]).content",
   "id": "633fb1eaee12e542",
   "outputs": [
    {
     "data": {
      "text/plain": [
       "\"Hello Bob! It's nice to meet you. How can I assist you today?\""
      ]
     },
     "execution_count": 28,
     "metadata": {},
     "output_type": "execute_result"
    }
   ],
   "execution_count": 28
  },
  {
   "metadata": {
    "ExecuteTime": {
     "end_time": "2024-10-19T08:47:46.135486Z",
     "start_time": "2024-10-19T08:47:46.133176Z"
    }
   },
   "cell_type": "code",
   "source": [
    "irc5_project_paths = [\"../shared/zdrojaky/IRC5/\" + filename + \"/RAPID/\" for filename in\n",
    "                      os.listdir(\"../shared/zdrojaky/IRC5/\")]\n",
    "omnicore_project_paths = [\"../shared/zdrojaky/Omnicore/\" + filename + \"/RAPID/\" for filename in\n",
    "                          os.listdir(\"../shared/zdrojaky/Omnicore/\")]\n",
    "pdf_paths = ['../shared/zdrojaky/Rapid tech manuals/' + filename for filename in\n",
    "             os.listdir(\"../shared/zdrojaky/Rapid tech manuals\")\n",
    "             if filename.endswith(\".pdf\")]"
   ],
   "id": "a5247f7fb7b3191d",
   "outputs": [],
   "execution_count": 4
  },
  {
   "metadata": {
    "ExecuteTime": {
     "end_time": "2024-10-19T08:49:03.983619Z",
     "start_time": "2024-10-19T08:47:46.179684Z"
    }
   },
   "cell_type": "code",
   "source": [
    "# all_file_paths = [all_file_paths[4]]\n",
    "\n",
    "pdf_documents = []\n",
    "for index, file_path in enumerate(pdf_paths):\n",
    "    loader = PyPDFLoader(file_path=file_path)\n",
    "    document = loader.load()\n",
    "    for page in document:\n",
    "        page.metadata[\"version_number\"] = 7 if \"7\" in file_path else 5\n",
    "        page.metadata[\"version_name\"] = \"Omnicore\" if \"7\" in file_path else \"IRC5\"\n",
    "    pdf_documents.extend(document)"
   ],
   "id": "75359847bae8df55",
   "outputs": [],
   "execution_count": 5
  },
  {
   "metadata": {
    "ExecuteTime": {
     "end_time": "2024-10-19T08:49:07.708734Z",
     "start_time": "2024-10-19T08:49:03.988982Z"
    }
   },
   "cell_type": "code",
   "source": [
    "source_documents = []\n",
    "\n",
    "for index, file_path in enumerate(irc5_project_paths):\n",
    "    loader = DirectoryLoader(path=file_path, recursive=True, show_progress=True, glob=\"**/*.mod\")\n",
    "    document = loader.load()\n",
    "    for page in document:\n",
    "        page.metadata[\"version_number\"] = 5\n",
    "        page.metadata[\"version_name\"] = \"IRC5\"\n",
    "    source_documents.extend(document)\n",
    "    print(\"Document\", index, \"loaded.\")\n",
    "    if index > 1:\n",
    "        break\n",
    "\n",
    "for index, file_path in enumerate(omnicore_project_paths):\n",
    "    # ignore files ending with .sys extension\n",
    "    loader = DirectoryLoader(path=file_path, recursive=True, show_progress=True, glob=\"**/*.modx\", silent_errors=True)\n",
    "    document = loader.load()\n",
    "    for page in document:\n",
    "        page.metadata[\"version_number\"] = 7\n",
    "        page.metadata[\"version_name\"] = \"Omnicore\"\n",
    "    source_documents.extend(document)\n",
    "    print(\"Document\", index, \"loaded.\")\n",
    "    if index > 1:\n",
    "        break"
   ],
   "id": "b2225691fcef8e27",
   "outputs": [
    {
     "name": "stderr",
     "output_type": "stream",
     "text": [
      "100%|██████████| 2/2 [00:00<00:00,  2.43it/s]\n"
     ]
    },
    {
     "name": "stdout",
     "output_type": "stream",
     "text": [
      "Document 0 loaded.\n"
     ]
    },
    {
     "name": "stderr",
     "output_type": "stream",
     "text": [
      "100%|██████████| 13/13 [00:01<00:00,  7.11it/s]\n"
     ]
    },
    {
     "name": "stdout",
     "output_type": "stream",
     "text": [
      "Document 1 loaded.\n"
     ]
    },
    {
     "name": "stderr",
     "output_type": "stream",
     "text": [
      "100%|██████████| 1/1 [00:00<00:00, 35.29it/s]\n"
     ]
    },
    {
     "name": "stdout",
     "output_type": "stream",
     "text": [
      "Document 2 loaded.\n"
     ]
    },
    {
     "name": "stderr",
     "output_type": "stream",
     "text": [
      " 11%|█         | 1/9 [00:00<00:06,  1.29it/s]Error loading file ../shared/zdrojaky/Omnicore/15000-100640/RAPID/TASK2/PROGMOD/autotest.modx: Invalid file ../shared/zdrojaky/Omnicore/15000-100640/RAPID/TASK2/PROGMOD/autotest.modx. The FileType.UNK file type is not supported in partition.\n",
      "Error loading file ../shared/zdrojaky/Omnicore/15000-100640/RAPID/TASK2/PROGMOD/autotestsc.modx: Invalid file ../shared/zdrojaky/Omnicore/15000-100640/RAPID/TASK2/PROGMOD/autotestsc.modx. The FileType.UNK file type is not supported in partition.\n",
      "Error loading file ../shared/zdrojaky/Omnicore/15000-100640/RAPID/TASK2/PROGMOD/MotorCommutation.modx: Invalid file ../shared/zdrojaky/Omnicore/15000-100640/RAPID/TASK2/PROGMOD/MotorCommutation.modx. The FileType.UNK file type is not supported in partition.\n",
      " 67%|██████▋   | 6/9 [00:00<00:00,  8.52it/s]Error loading file ../shared/zdrojaky/Omnicore/15000-100640/RAPID/TASK2/PROGMOD/READ_ELOG.modx: Invalid file ../shared/zdrojaky/Omnicore/15000-100640/RAPID/TASK2/PROGMOD/READ_ELOG.modx. The FileType.UNK file type is not supported in partition.\n",
      "100%|██████████| 9/9 [00:01<00:00,  8.82it/s]\n"
     ]
    },
    {
     "name": "stdout",
     "output_type": "stream",
     "text": [
      "Document 0 loaded.\n"
     ]
    },
    {
     "name": "stderr",
     "output_type": "stream",
     "text": [
      "0it [00:00, ?it/s]\n"
     ]
    },
    {
     "name": "stdout",
     "output_type": "stream",
     "text": [
      "Document 1 loaded.\n"
     ]
    },
    {
     "name": "stderr",
     "output_type": "stream",
     "text": [
      "100%|██████████| 1/1 [00:00<00:00, 542.39it/s]"
     ]
    },
    {
     "name": "stdout",
     "output_type": "stream",
     "text": [
      "Document 2 loaded.\n"
     ]
    },
    {
     "name": "stderr",
     "output_type": "stream",
     "text": [
      "\n"
     ]
    }
   ],
   "execution_count": 6
  },
  {
   "metadata": {
    "ExecuteTime": {
     "end_time": "2024-10-19T08:49:07.716998Z",
     "start_time": "2024-10-19T08:49:07.714833Z"
    }
   },
   "cell_type": "code",
   "source": [
    "print(\"PDF documents before splitting:\", len(pdf_documents))\n",
    "print(\"Source documents before splitting:\", len(source_documents))"
   ],
   "id": "f4794164f0ef4fd5",
   "outputs": [
    {
     "name": "stdout",
     "output_type": "stream",
     "text": [
      "PDF documents before splitting: 5940\n",
      "Source documents before splitting: 22\n"
     ]
    }
   ],
   "execution_count": 7
  },
  {
   "metadata": {
    "ExecuteTime": {
     "end_time": "2024-10-19T08:49:07.934674Z",
     "start_time": "2024-10-19T08:49:07.764830Z"
    }
   },
   "cell_type": "code",
   "source": [
    "\n",
    "# embeddings = OpenAIEmbeddings(model=\"e5-mistral-7b-instruct\", api_key=\"hovno\", base_url=\"http://10.147.20.161:12345/v1/\",\n",
    "#                           check_embedding_ctx_length=False)\n",
    "text_splitter = RecursiveCharacterTextSplitter(chunk_size=5000, chunk_overlap=1000)\n",
    "split_documents = text_splitter.split_documents(pdf_documents + source_documents)\n",
    "# split_documents = text_splitter.split_documents(other_do)\n",
    "print(len(split_documents))\n",
    "\n",
    "pprint(split_documents[:10])\n",
    "# print(\"Document\", index, \"loaded.\")\n",
    "# embeddings = OpenAIEmbeddings(model=\"nomic-embed-text-v1.5\", api_key=\"hovno\", base_url=\"http://10.147.20.161:12345/v1/\",\n",
    "#                               )\n"
   ],
   "id": "1fd98a3c34a14f3c",
   "outputs": [
    {
     "name": "stdout",
     "output_type": "stream",
     "text": [
      "6103\n",
      "[Document(metadata={'source': '../shared/zdrojaky/Rapid tech manuals/TRM RAPID RW 5-en.pdf', 'page': 0, 'version_number': 5, 'version_name': 'IRC5'}, page_content='Technical reference manual\\nRAPIDInstructions, Functions andData\\ntypes'),\n",
      " Document(metadata={'source': '../shared/zdrojaky/Rapid tech manuals/TRM RAPID RW 5-en.pdf', 'page': 1, 'version_number': 5, 'version_name': 'IRC5'}, page_content='Tracebackinformation:\\nWorkspace R14-1versiona5\\nCheckedin2014-04-07\\nSkribenta version4.0.378'),\n",
      " Document(metadata={'source': '../shared/zdrojaky/Rapid tech manuals/TRM RAPID RW 5-en.pdf', 'page': 2, 'version_number': 5, 'version_name': 'IRC5'}, page_content='Technical reference manual\\nRAPIDInstructions, Functions andDatatypes\\nRobotWare 5.61\\nDocument ID:3HAC16581-1\\nRevision: R\\n©Copyright 2004-2014ABB.Allrightsreserved.'),\n",
      " Document(metadata={'source': '../shared/zdrojaky/Rapid tech manuals/TRM RAPID RW 5-en.pdf', 'page': 3, 'version_number': 5, 'version_name': 'IRC5'}, page_content=\"Theinformation inthismanualissubjecttochangewithoutnoticeandshouldnot\\nbeconstrued asacommitment byABB.ABBassumesnoresponsibility foranyerrors\\nthatmayappearinthismanual.\\nExceptasmaybeexpressly statedanywhere inthismanual,nothinghereinshallbe\\nconstrued asanykindofguarantee orwarrantybyABBforlosses,damages to\\npersonsorproperty, fitnessforaspecificpurposeorthelike.\\nInnoeventshallABBbeliableforincidental orconsequential damages arisingfrom\\nuseofthismanualandproductsdescribed herein.\\nThismanualandpartsthereofmustnotbereproduced orcopiedwithoutABB's\\nwrittenpermission.\\nAdditional copiesofthismanualmaybeobtainedfromABB.\\nTheoriginallanguage forthispublication isEnglish.Anyotherlanguages thatare\\nsuppliedhavebeentranslated fromEnglish.\\n©Copyright 2004-2014ABB.Allrightsreserved.\\nABBAB\\nRoboticsProducts\\nSe-72168Västerås\\nSweden\"),\n",
      " Document(metadata={'source': '../shared/zdrojaky/Rapid tech manuals/TRM RAPID RW 5-en.pdf', 'page': 4, 'version_number': 5, 'version_name': 'IRC5'}, page_content='Tableofcontents\\n15 Overview ofthismanual...................................................................................................................\\n19 1Instructions\\n19 1.1AccSet-Reducestheacceleration .......................................................................\\n22 1.2ActEventBuffer -Activation ofeventbuffer.............................................................\\n24 1.3ActUnit-Activates amechanical unit....................................................................\\n26 1.4Add-Addsanumericvalue................................................................................\\n28 1.5AliasIO-DefineI/Osignalwithaliasname.............................................................\\n31 1.6\":=\"-Assignsavalue.........................................................................................\\n33 1.7BitClear-Clearaspecified bitinabyteordnumdata..............................................\\n36 1.8BitSet-Setaspecified bitinabyteordnumdata....................................................\\n39 1.9BookErrNo -BookaRAPIDsystemerrornumber....................................................\\n41 1.10Break-Breakprogramexecution .........................................................................\\n42 1.11CallByVar -Callaprocedure byavariable.............................................................\\n44 1.12CancelLoad -Cancelloadingofamodule..............................................................\\n46 1.13CheckProgRef -Checkprogramreferences ...........................................................\\n47 1.14CirPathMode -Toolreorientation duringcirclepath.................................................\\n53 1.15Clear-Clearsthevalue......................................................................................\\n54 1.16ClearIOBuff -Clearinputbufferofaserialchannel..................................................\\n56 1.17ClearPath -Clearcurrentpath.............................................................................\\n60 1.18ClearRawBytes -Clearthecontentsofrawbytes data..............................................\\n62 1.19ClkReset -Resetsaclockusedfortiming..............................................................\\n63 1.20ClkStart-Startsaclockusedfortiming.................................................................\\n65 1.21ClkStop-Stopsaclockusedfortiming.................................................................\\n66 1.22Close-Closesafileorserialchannel....................................................................\\n67 1.23CloseDir-Closeadirectory.................................................................................\\n68 1.24Comment -Comment .........................................................................................\\n69 1.25Compact IF-Ifacondition ismet,then...(oneinstruction) ........................................\\n70 1.26ConfJ-Controlstheconfiguration duringjointmovement .........................................\\n72 1.27ConfL-Monitorstheconfiguration duringlinearmovement .......................................\\n74 1.28CONNECT -Connects aninterrupttoatraproutine................................................\\n76 1.29CopyFile-Copyafile.........................................................................................\\n78 1.30CopyRawBytes -Copythecontentsofrawbytes data...............................................\\n80 1.31CorrClear -Removes allcorrection generators .......................................................\\n81 1.32CorrCon-Connects toacorrection generator .........................................................\\n86 1.33CorrDiscon -Disconnects fromacorrection generator .............................................\\n87 1.34CorrWrite -Writestoacorrection generator ...........................................................\\n89 1.35DeactEventBuffer -Deactivation ofeventbuffer......................................................\\n91 1.36DeactUnit -Deactivates amechanical unit.............................................................\\n93 1.37Decr-Decrements by1......................................................................................\\n95 1.38DitherAct -Enablesditherforsoftservo................................................................\\n97 1.39DitherDeact -Disablesditherforsoftservo............................................................\\n98 1.40DropWObj -Dropworkobjectonconveyor .............................................................\\n99 1.41EOffsOff-Deactivates anoffsetforadditional axes.................................................\\n100 1.42EOffsOn-Activates anoffsetforadditional axes....................................................\\n102 1.43EOffsSet -Activates anoffsetforadditional axesusingknownvalues.........................\\n104 1.44EraseModule -Eraseamodule............................................................................\\n106 1.45ErrLog-Writeanerrormessage ..........................................................................'),\n",
      " Document(metadata={'source': '../shared/zdrojaky/Rapid tech manuals/TRM RAPID RW 5-en.pdf', 'page': 4, 'version_number': 5, 'version_name': 'IRC5'}, page_content='93 1.37Decr-Decrements by1......................................................................................\\n95 1.38DitherAct -Enablesditherforsoftservo................................................................\\n97 1.39DitherDeact -Disablesditherforsoftservo............................................................\\n98 1.40DropWObj -Dropworkobjectonconveyor .............................................................\\n99 1.41EOffsOff-Deactivates anoffsetforadditional axes.................................................\\n100 1.42EOffsOn-Activates anoffsetforadditional axes....................................................\\n102 1.43EOffsSet -Activates anoffsetforadditional axesusingknownvalues.........................\\n104 1.44EraseModule -Eraseamodule............................................................................\\n106 1.45ErrLog-Writeanerrormessage ..........................................................................\\n110 1.46ErrRaise-Writesawarningandcallsanerrorhandler.............................................\\n114 1.47ErrWrite-Writeanerrormessage ........................................................................\\n116 1.48EXIT-Terminates programexecution ..................................................................\\n117 1.49ExitCycle -Breakcurrentcycleandstartnext.........................................................\\n119 1.50FOR-Repeatsagivennumberoftimes................................................................\\n121 1.51GetDataVal -Getthevalueofadataobject............................................................\\n124 1.52GetSysData -Getsystemdata.............................................................................\\n127 1.53GetTrapData -GetinterruptdataforcurrentTRAP..................................................\\n129 1.54GOTO-Goestoanewinstruction ........................................................................\\n3HAC16581-1 Revision: R 5\\n©Copyright 2004-2014ABB.Allrightsreserved.Tableofcontents'),\n",
      " Document(metadata={'source': '../shared/zdrojaky/Rapid tech manuals/TRM RAPID RW 5-en.pdf', 'page': 5, 'version_number': 5, 'version_name': 'IRC5'}, page_content='131 1.55GripLoad -Definesthepayloadforarobot.............................................................\\n133 1.56HollowWristReset -ResethollowwristforIRB5402andIRB5403...............................\\n135 1.57IDelete-Cancelsaninterrupt..............................................................................\\n136 1.58IDisable-Disablesinterrupts ...............................................................................\\n137 1.59IEnable-Enablesinterrupts ................................................................................\\n138 1.60IError-Ordersaninterruptonerrors.....................................................................\\n141 1.61IF-Ifacondition ismet,then...;otherwise ............................................................\\n143 1.62Incr-Increments by1........................................................................................\\n145 1.63IndAMove -Independent absolutepositionmovement .............................................\\n149 1.64IndCMove -Independent continuous movement ......................................................\\n153 1.65IndDMove -Independent deltapositionmovement ..................................................\\n156 1.66IndReset -Independent reset..............................................................................\\n161 1.67IndRMove -Independent relativepositionmovement ...............................................\\n165 1.68InvertDO -Invertsthevalueofadigitaloutputsignal...............................................\\n167 1.69IOBusStart -StartofI/Obus................................................................................\\n168 1.70IOBusState -GetcurrentstateofI/Obus...............................................................\\n171 1.71IODisable -Deactivate anI/Ounit.........................................................................\\n174 1.72IOEnable -ActivateanI/Ounit.............................................................................\\n176 1.73IPers-Interruptatvaluechangeofapersistent variable...........................................\\n178 1.74IRMQMessage -OrdersRMQinterrupts foradatatype............................................\\n182 1.75ISignalAI -Interrupts fromanaloginputsignal........................................................\\n192 1.76ISignalAO -Interrupts fromanalogoutputsignal.....................................................\\n196 1.77ISignalDI -Ordersinterrupts fromadigitalinputsignal.............................................\\n199 1.78ISignalDO -Interrupts fromadigitaloutputsignal....................................................\\n202 1.79ISignalGI -Ordersinterrupts fromagroupofdigitalinputsignals...............................\\n205 1.80ISignalGO -Ordersinterrupts fromagroupofdigitaloutputsignals............................\\n208 1.81ISleep-Deactivates aninterrupt..........................................................................\\n210 1.82ITimer-Ordersatimedinterrupt..........................................................................\\n212 1.83IVarValue -ordersavariablevalueinterrupt...........................................................\\n215 1.84IWatch-Activates aninterrupt.............................................................................\\n217 1.85Label-Linename..............................................................................................\\n218 1.86Load-Loadaprogrammoduleduringexecution .....................................................\\n222 1.87LoadId-Loadidentification oftoolorpayload.........................................................\\n228 1.88MakeDir-Createanewdirectory.........................................................................\\n229 1.89ManLoadIdProc -Loadidentification ofIRBPmanipulators .......................................\\n233 1.90MechUnitLoad -Definesapayloadforamechanical unit..........................................\\n237 1.91MotionSup -Deactivates/Activates motionsupervision .............................................\\n239 1.92MoveAbsJ -Movestherobottoanabsolutejointposition.........................................\\n246 1.93MoveC-Movestherobotcircularly .......................................................................\\n254 1.94MoveCDO -Movestherobotcircularly andsetsdigitaloutputinthecorner..................\\n259 1.95MoveCSync -Movestherobotcircularly andexecutes aRAPIDprocedure ..................\\n264 1.96MoveExtJ -Moveoneorseveralmechanical unitswithoutTCP.................................\\n267 1.97MoveJ-Movestherobotbyjointmovement ...........................................................\\n272 1.98MoveJDO -Movestherobotbyjointmovement andsetsdigitaloutputinthecorner......\\n276 1.99MoveJSync -Movestherobotbyjointmovement andexecutes aRAPIDprocedure ......\\n281 1.100MoveL-Movestherobotlinearly..........................................................................\\n287 1.101MoveLDO -Movestherobotlinearlyandsetsdigitaloutputinthecorner.....................'),\n",
      " Document(metadata={'source': '../shared/zdrojaky/Rapid tech manuals/TRM RAPID RW 5-en.pdf', 'page': 5, 'version_number': 5, 'version_name': 'IRC5'}, page_content='239 1.92MoveAbsJ -Movestherobottoanabsolutejointposition.........................................\\n246 1.93MoveC-Movestherobotcircularly .......................................................................\\n254 1.94MoveCDO -Movestherobotcircularly andsetsdigitaloutputinthecorner..................\\n259 1.95MoveCSync -Movestherobotcircularly andexecutes aRAPIDprocedure ..................\\n264 1.96MoveExtJ -Moveoneorseveralmechanical unitswithoutTCP.................................\\n267 1.97MoveJ-Movestherobotbyjointmovement ...........................................................\\n272 1.98MoveJDO -Movestherobotbyjointmovement andsetsdigitaloutputinthecorner......\\n276 1.99MoveJSync -Movestherobotbyjointmovement andexecutes aRAPIDprocedure ......\\n281 1.100MoveL-Movestherobotlinearly..........................................................................\\n287 1.101MoveLDO -Movestherobotlinearlyandsetsdigitaloutputinthecorner.....................\\n291 1.102MoveLSync -Movestherobotlinearlyandexecutes aRAPIDprocedure .....................\\n296 1.103MToolRotCalib -Calibration ofrotationformovingtool.............................................\\n299 1.104MToolTCPCalib -Calibration ofTCPformovingtool................................................\\n302 1.105Open-Opensafileorserialchannel....................................................................\\n306 1.106OpenDir-Openadirectory.................................................................................\\n308 1.107PackDNHeader -PackDeviceNet Headerintorawbytes data.....................................\\n311 1.108PackRawBytes -Packdataintorawbytes data........................................................\\n315 1.109PathAccLim -ReduceTCPacceleration alongthepath............................................\\n319 1.110PathRecMoveBwd -Movepathrecorderbackwards ................................................\\n325 1.111PathRecMoveFwd -Movepathrecorderforward.....................................................\\n328 1.112PathRecStart -Startthepathrecorder...................................................................\\n331 1.113PathRecStop -Stopthepathrecorder...................................................................\\n6 3HAC16581-1 Revision: R\\n©Copyright 2004-2014ABB.Allrightsreserved.Tableofcontents'),\n",
      " Document(metadata={'source': '../shared/zdrojaky/Rapid tech manuals/TRM RAPID RW 5-en.pdf', 'page': 6, 'version_number': 5, 'version_name': 'IRC5'}, page_content='334 1.114PathResol -Overridepathresolution ....................................................................\\n336 1.115PDispOff -Deactivates programdisplacement .......................................................\\n337 1.116PDispOn -Activates programdisplacement ...........................................................\\n341 1.117PDispSet -Activates programdisplacement usingknownframe................................\\n343 1.118ProcCall-Callsanewprocedure .........................................................................\\n345 1.119ProcerrRecovery -Generate andrecoverfromprocess-move error............................\\n351 1.120PulseDO-Generates apulseonadigitaloutputsignal............................................\\n354 1.121RAISE-Callsanerrorhandler.............................................................................\\n357 1.122RaiseToUser -Propagates anerrortouserlevel.....................................................\\n360 1.123ReadAnyBin -Readdatafromabinaryserialchannelorfile......................................\\n363 1.124ReadBlock -readablockofdatafromdevice.........................................................\\n365 1.125ReadCfgData -Readsattributeofasystemparameter .............................................\\n369 1.126ReadErrData -Getsinformation aboutanerror.......................................................\\n372 1.127ReadRawBytes -Readrawbytes data....................................................................\\n375 1.128RemoveDir -Deleteadirectory............................................................................\\n377 1.129RemoveFile -Deleteafile...................................................................................\\n378 1.130RenameFile -Renameafile................................................................................\\n380 1.131Reset-Resetsadigitaloutputsignal....................................................................\\n382 1.132ResetPPMoved -Resetstatefortheprogrampointermovedinmanualmode..............\\n383 1.133ResetRetryCount -Resetthenumberofretries.......................................................\\n384 1.134RestoPath -Restores thepathafteraninterrupt......................................................\\n386 1.135RETRY-Resumeexecution afteranerror..............................................................\\n387 1.136RETURN -Finishesexecution ofaroutine.............................................................\\n389 1.137Rewind-Rewindfileposition...............................................................................\\n391 1.138RMQEmptyQueue -EmptyRAPIDMessage Queue.................................................\\n393 1.139RMQFindSlot -Findaslotidentityfromtheslotname..............................................\\n395 1.140RMQGetMessage -GetanRMQmessage .............................................................\\n398 1.141RMQGetMsgData -GetthedatapartfromanRMQmessage .....................................\\n401 1.142RMQGetMsgHeader -Getheaderinformation fromanRMQmessage .........................\\n404 1.143RMQReadWait -Returnsmessage fromRMQ.........................................................\\n407 1.144RMQSendMessage -SendanRMQdatamessage ..................................................\\n411 1.145RMQSendWait -SendanRMQdatamessage andwaitforaresponse ........................\\n416 1.146Save-Saveaprogrammodule............................................................................\\n419 1.147SCWrite-Sendvariabledatatoaclientapplication .................................................\\n422 1.148SearchC-Searches circularly usingtherobot........................................................\\n431 1.149SearchExtJ -Searchwithoneorseveralmechanical unitswithoutTCP.......................\\n438 1.150SearchL-Searches linearlyusingtherobot...........................................................\\n448 1.151SenDevice -connecttoasensordevice................................................................\\n450 1.152Set-Setsadigitaloutputsignal...........................................................................\\n452 1.153SetAllDataVal -Setavaluetoalldataobjectsinadefinedset...................................\\n454 1.154SetAO-Changes thevalueofananalogoutputsignal.............................................\\n456 1.155SetDataSearch -Definethesymbolsetinasearchsequence ....................................\\n460 1.156SetDataVal -Setthevalueofadataobject.............................................................\\n463 1.157SetDO-Changes thevalueofadigitaloutputsignal................................................\\n465 1.158SetGO-Changes thevalueofagroupofdigitaloutputsignals..................................\\n468 1.159SetSysData -Setsystemdata..............................................................................\\n470 1.160SingArea -Definesinterpolation aroundsingularpoints............................................\\n472 1.161SkipWarn -Skipthelatestwarning.......................................................................'),\n",
      " Document(metadata={'source': '../shared/zdrojaky/Rapid tech manuals/TRM RAPID RW 5-en.pdf', 'page': 6, 'version_number': 5, 'version_name': 'IRC5'}, page_content='452 1.153SetAllDataVal -Setavaluetoalldataobjectsinadefinedset...................................\\n454 1.154SetAO-Changes thevalueofananalogoutputsignal.............................................\\n456 1.155SetDataSearch -Definethesymbolsetinasearchsequence ....................................\\n460 1.156SetDataVal -Setthevalueofadataobject.............................................................\\n463 1.157SetDO-Changes thevalueofadigitaloutputsignal................................................\\n465 1.158SetGO-Changes thevalueofagroupofdigitaloutputsignals..................................\\n468 1.159SetSysData -Setsystemdata..............................................................................\\n470 1.160SingArea -Definesinterpolation aroundsingularpoints............................................\\n472 1.161SkipWarn -Skipthelatestwarning.......................................................................\\n473 1.162SocketAccept -Acceptanincoming connection ......................................................\\n476 1.163SocketBind -BindasockettomyIP-address andport.............................................\\n478 1.164SocketClose -Closeasocket..............................................................................\\n480 1.165SocketConnect -Connecttoaremotecomputer .....................................................\\n483 1.166SocketCreate -Createanewsocket.....................................................................\\n485 1.167SocketListen -Listenforincoming connections ......................................................\\n487 1.168SocketReceive -Receivedatafromremotecomputer ..............................................\\n492 1.169SocketSend -Senddatatoremotecomputer ..........................................................\\n496 1.170SoftAct-Activating thesoftservo.........................................................................\\n498 1.171SoftDeact -Deactivating thesoftservo..................................................................\\n499 1.172SpeedLimAxis -Setspeedlimitation foranaxis......................................................\\n3HAC16581-1 Revision: R 7\\n©Copyright 2004-2014ABB.Allrightsreserved.Tableofcontents')]\n"
     ]
    }
   ],
   "execution_count": 8
  },
  {
   "metadata": {
    "ExecuteTime": {
     "end_time": "2024-10-19T08:53:41.425420Z",
     "start_time": "2024-10-19T08:49:07.941212Z"
    }
   },
   "cell_type": "code",
   "source": [
    "embeddings = OpenAIEmbeddings(model=model, api_key=\"hovno\", base_url=url, check_embedding_ctx_length=False)\n",
    "vectorstore = Chroma.from_documents(documents=split_documents, embedding=embeddings)"
   ],
   "id": "f7cd410df2d6263c",
   "outputs": [],
   "execution_count": 9
  },
  {
   "metadata": {
    "ExecuteTime": {
     "end_time": "2024-10-19T09:17:08.885817Z",
     "start_time": "2024-10-19T09:17:08.368510Z"
    }
   },
   "cell_type": "code",
   "source": [
    "# Retrieve and generate using the relevant snippets of the blog.\n",
    "retriever = vectorstore.as_retriever(k=2)\n",
    "prompt = hub.pull(\"rlm/rag-prompt\")\n",
    "\n",
    "\n",
    "def format_docs(docs):\n",
    "    return \"\\n\\n\".join(doc.page_content for doc in docs)\n",
    "\n",
    "\n",
    "rag_chain = (\n",
    "        {\"context\": retriever | format_docs, \"question\": RunnablePassthrough()}\n",
    "        | prompt\n",
    "        | llm\n",
    "        | StrOutputParser()\n",
    ")\n",
    "\n",
    "add_documentation = True\n",
    "if add_documentation:\n",
    "    doc_string = \"Also add documentation to the code.\"\n",
    "else:\n",
    "    doc_string = \"\"\n",
    "# rewrite this /|\\ using older Python syntax\n",
    "\n",
    "db = Chroma.from_documents(split_documents, embedding_function=embeddings, persist_directory=\"./chroma_db\")\n",
    "db.persist()"
   ],
   "id": "db493aecd0c36624",
   "outputs": [
    {
     "ename": "TypeError",
     "evalue": "langchain_chroma.vectorstores.Chroma() got multiple values for keyword argument 'embedding_function'",
     "output_type": "error",
     "traceback": [
      "\u001B[0;31m---------------------------------------------------------------------------\u001B[0m",
      "\u001B[0;31mTypeError\u001B[0m                                 Traceback (most recent call last)",
      "Cell \u001B[0;32mIn[36], line 24\u001B[0m\n\u001B[1;32m     21\u001B[0m     doc_string \u001B[38;5;241m=\u001B[39m \u001B[38;5;124m\"\u001B[39m\u001B[38;5;124m\"\u001B[39m\n\u001B[1;32m     22\u001B[0m \u001B[38;5;66;03m# rewrite this /|\\ using older Python syntax\u001B[39;00m\n\u001B[0;32m---> 24\u001B[0m db \u001B[38;5;241m=\u001B[39m \u001B[43mChroma\u001B[49m\u001B[38;5;241;43m.\u001B[39;49m\u001B[43mfrom_documents\u001B[49m\u001B[43m(\u001B[49m\u001B[43msplit_documents\u001B[49m\u001B[43m,\u001B[49m\u001B[43m \u001B[49m\u001B[43membedding_function\u001B[49m\u001B[38;5;241;43m=\u001B[39;49m\u001B[43membeddings\u001B[49m\u001B[43m,\u001B[49m\u001B[43m \u001B[49m\u001B[43mpersist_directory\u001B[49m\u001B[38;5;241;43m=\u001B[39;49m\u001B[38;5;124;43m\"\u001B[39;49m\u001B[38;5;124;43m./chroma_db\u001B[39;49m\u001B[38;5;124;43m\"\u001B[39;49m\u001B[43m)\u001B[49m\n\u001B[1;32m     25\u001B[0m db\u001B[38;5;241m.\u001B[39mpersist()\n",
      "File \u001B[0;32m~/Important/abbccc/langchain-project/.venv/lib/python3.12/site-packages/langchain_chroma/vectorstores.py:1128\u001B[0m, in \u001B[0;36mChroma.from_documents\u001B[0;34m(cls, documents, embedding, ids, collection_name, persist_directory, client_settings, client, collection_metadata, **kwargs)\u001B[0m\n\u001B[1;32m   1126\u001B[0m texts \u001B[38;5;241m=\u001B[39m [doc\u001B[38;5;241m.\u001B[39mpage_content \u001B[38;5;28;01mfor\u001B[39;00m doc \u001B[38;5;129;01min\u001B[39;00m documents]\n\u001B[1;32m   1127\u001B[0m metadatas \u001B[38;5;241m=\u001B[39m [doc\u001B[38;5;241m.\u001B[39mmetadata \u001B[38;5;28;01mfor\u001B[39;00m doc \u001B[38;5;129;01min\u001B[39;00m documents]\n\u001B[0;32m-> 1128\u001B[0m \u001B[38;5;28;01mreturn\u001B[39;00m \u001B[38;5;28;43mcls\u001B[39;49m\u001B[38;5;241;43m.\u001B[39;49m\u001B[43mfrom_texts\u001B[49m\u001B[43m(\u001B[49m\n\u001B[1;32m   1129\u001B[0m \u001B[43m    \u001B[49m\u001B[43mtexts\u001B[49m\u001B[38;5;241;43m=\u001B[39;49m\u001B[43mtexts\u001B[49m\u001B[43m,\u001B[49m\n\u001B[1;32m   1130\u001B[0m \u001B[43m    \u001B[49m\u001B[43membedding\u001B[49m\u001B[38;5;241;43m=\u001B[39;49m\u001B[43membedding\u001B[49m\u001B[43m,\u001B[49m\n\u001B[1;32m   1131\u001B[0m \u001B[43m    \u001B[49m\u001B[43mmetadatas\u001B[49m\u001B[38;5;241;43m=\u001B[39;49m\u001B[43mmetadatas\u001B[49m\u001B[43m,\u001B[49m\n\u001B[1;32m   1132\u001B[0m \u001B[43m    \u001B[49m\u001B[43mids\u001B[49m\u001B[38;5;241;43m=\u001B[39;49m\u001B[43mids\u001B[49m\u001B[43m,\u001B[49m\n\u001B[1;32m   1133\u001B[0m \u001B[43m    \u001B[49m\u001B[43mcollection_name\u001B[49m\u001B[38;5;241;43m=\u001B[39;49m\u001B[43mcollection_name\u001B[49m\u001B[43m,\u001B[49m\n\u001B[1;32m   1134\u001B[0m \u001B[43m    \u001B[49m\u001B[43mpersist_directory\u001B[49m\u001B[38;5;241;43m=\u001B[39;49m\u001B[43mpersist_directory\u001B[49m\u001B[43m,\u001B[49m\n\u001B[1;32m   1135\u001B[0m \u001B[43m    \u001B[49m\u001B[43mclient_settings\u001B[49m\u001B[38;5;241;43m=\u001B[39;49m\u001B[43mclient_settings\u001B[49m\u001B[43m,\u001B[49m\n\u001B[1;32m   1136\u001B[0m \u001B[43m    \u001B[49m\u001B[43mclient\u001B[49m\u001B[38;5;241;43m=\u001B[39;49m\u001B[43mclient\u001B[49m\u001B[43m,\u001B[49m\n\u001B[1;32m   1137\u001B[0m \u001B[43m    \u001B[49m\u001B[43mcollection_metadata\u001B[49m\u001B[38;5;241;43m=\u001B[39;49m\u001B[43mcollection_metadata\u001B[49m\u001B[43m,\u001B[49m\n\u001B[1;32m   1138\u001B[0m \u001B[43m    \u001B[49m\u001B[38;5;241;43m*\u001B[39;49m\u001B[38;5;241;43m*\u001B[39;49m\u001B[43mkwargs\u001B[49m\u001B[43m,\u001B[49m\n\u001B[1;32m   1139\u001B[0m \u001B[43m\u001B[49m\u001B[43m)\u001B[49m\n",
      "File \u001B[0;32m~/Important/abbccc/langchain-project/.venv/lib/python3.12/site-packages/langchain_chroma/vectorstores.py:1061\u001B[0m, in \u001B[0;36mChroma.from_texts\u001B[0;34m(cls, texts, embedding, metadatas, ids, collection_name, persist_directory, client_settings, client, collection_metadata, **kwargs)\u001B[0m\n\u001B[1;32m   1025\u001B[0m \u001B[38;5;129m@classmethod\u001B[39m\n\u001B[1;32m   1026\u001B[0m \u001B[38;5;28;01mdef\u001B[39;00m \u001B[38;5;21mfrom_texts\u001B[39m(\n\u001B[1;32m   1027\u001B[0m     \u001B[38;5;28mcls\u001B[39m: Type[Chroma],\n\u001B[0;32m   (...)\u001B[0m\n\u001B[1;32m   1037\u001B[0m     \u001B[38;5;241m*\u001B[39m\u001B[38;5;241m*\u001B[39mkwargs: Any,\n\u001B[1;32m   1038\u001B[0m ) \u001B[38;5;241m-\u001B[39m\u001B[38;5;241m>\u001B[39m Chroma:\n\u001B[1;32m   1039\u001B[0m \u001B[38;5;250m    \u001B[39m\u001B[38;5;124;03m\"\"\"Create a Chroma vectorstore from a raw documents.\u001B[39;00m\n\u001B[1;32m   1040\u001B[0m \n\u001B[1;32m   1041\u001B[0m \u001B[38;5;124;03m    If a persist_directory is specified, the collection will be persisted there.\u001B[39;00m\n\u001B[0;32m   (...)\u001B[0m\n\u001B[1;32m   1059\u001B[0m \u001B[38;5;124;03m        Chroma: Chroma vectorstore.\u001B[39;00m\n\u001B[1;32m   1060\u001B[0m \u001B[38;5;124;03m    \"\"\"\u001B[39;00m\n\u001B[0;32m-> 1061\u001B[0m     chroma_collection \u001B[38;5;241m=\u001B[39m \u001B[38;5;28mcls\u001B[39m(\n\u001B[1;32m   1062\u001B[0m         collection_name\u001B[38;5;241m=\u001B[39mcollection_name,\n\u001B[1;32m   1063\u001B[0m         embedding_function\u001B[38;5;241m=\u001B[39membedding,\n\u001B[1;32m   1064\u001B[0m         persist_directory\u001B[38;5;241m=\u001B[39mpersist_directory,\n\u001B[1;32m   1065\u001B[0m         client_settings\u001B[38;5;241m=\u001B[39mclient_settings,\n\u001B[1;32m   1066\u001B[0m         client\u001B[38;5;241m=\u001B[39mclient,\n\u001B[1;32m   1067\u001B[0m         collection_metadata\u001B[38;5;241m=\u001B[39mcollection_metadata,\n\u001B[1;32m   1068\u001B[0m         \u001B[38;5;241m*\u001B[39m\u001B[38;5;241m*\u001B[39mkwargs,\n\u001B[1;32m   1069\u001B[0m     )\n\u001B[1;32m   1070\u001B[0m     \u001B[38;5;28;01mif\u001B[39;00m ids \u001B[38;5;129;01mis\u001B[39;00m \u001B[38;5;28;01mNone\u001B[39;00m:\n\u001B[1;32m   1071\u001B[0m         ids \u001B[38;5;241m=\u001B[39m [\u001B[38;5;28mstr\u001B[39m(uuid\u001B[38;5;241m.\u001B[39muuid4()) \u001B[38;5;28;01mfor\u001B[39;00m _ \u001B[38;5;129;01min\u001B[39;00m texts]\n",
      "\u001B[0;31mTypeError\u001B[0m: langchain_chroma.vectorstores.Chroma() got multiple values for keyword argument 'embedding_function'"
     ]
    }
   ],
   "execution_count": 36
  },
  {
   "metadata": {
    "ExecuteTime": {
     "end_time": "2024-10-19T09:07:29.256017Z",
     "start_time": "2024-10-19T09:05:52.099469Z"
    }
   },
   "cell_type": "code",
   "source": [
    "# rag_chain.invoke(\"Do you know what's Rapid RW 5?\")\n",
    "output = rag_chain.invoke(f\"\"\"You are a machine that translates version 5 (IRC5) code into newer version 7 (Omnicore). You don't add any other words to the response, you only output the resulting code. Here's the code:\n",
    "```PROC close_gripper(num i)\n",
    "        err:=1;\n",
    "        WHILE err <> 0 DO\n",
    "            TEST i\n",
    "                CASE 1:\n",
    "                    err:= gripper_bottom_close();\n",
    "                CASE 2:\n",
    "                    err:= gripper_top_close();\n",
    "                CASE 3:\n",
    "                    err:= gripper_band_close();\n",
    "                CASE 4:\n",
    "                    err:= make_vacuum();\n",
    "            ENDTEST\n",
    "            !check the value of the sensors\n",
    "            IF err <> 0 THEN \n",
    "                SetDO rbt_anomaly, 1;\n",
    "                check_error_close(err);\n",
    "            ELSE SetDO rbt_anomaly, 0;        \n",
    "            ENDIF  \n",
    "        ENDWHILE\n",
    "    ENDPROC\n",
    "```\n",
    "This is the end of the input code. Don't output ANYTHING other than the output code surrounded by triple backticks.\n",
    "{doc_string}\n",
    "\"\"\")\n",
    "\n",
    "with open(\"output.txt\", \"w\") as f:\n",
    "    f.write(output)"
   ],
   "id": "1d1d1b80f406b7e0",
   "outputs": [],
   "execution_count": 30
  },
  {
   "metadata": {},
   "cell_type": "code",
   "outputs": [],
   "execution_count": null,
   "source": "",
   "id": "e006a14608540a35"
  }
 ],
 "metadata": {
  "kernelspec": {
   "display_name": "Python 3",
   "language": "python",
   "name": "python3"
  },
  "language_info": {
   "codemirror_mode": {
    "name": "ipython",
    "version": 2
   },
   "file_extension": ".py",
   "mimetype": "text/x-python",
   "name": "python",
   "nbconvert_exporter": "python",
   "pygments_lexer": "ipython2",
   "version": "2.7.6"
  }
 },
 "nbformat": 4,
 "nbformat_minor": 5
}
